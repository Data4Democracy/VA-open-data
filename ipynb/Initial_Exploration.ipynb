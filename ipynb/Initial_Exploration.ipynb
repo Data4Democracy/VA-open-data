{
 "cells": [
  {
   "cell_type": "markdown",
   "metadata": {},
   "source": [
    "# Initial Exploration\n",
    "*June 16th, 2017*  \n",
    "*by Alan Leggitt (leggitta3@gmail.com)*  \n",
    "\n",
    "- Initial exploration of [VA PTSD Statistics](https://catalog.data.gov/dataset/va-ptsd-statistics) from [data.gov](https://www.data.gov/)"
   ]
  },
  {
   "cell_type": "code",
   "execution_count": 1,
   "metadata": {
    "collapsed": true
   },
   "outputs": [],
   "source": [
    "import json\n",
    "import os\n",
    "import pandas as pd\n",
    "import pprint\n",
    "from sqlalchemy import create_engine\n",
    "from urllib import request"
   ]
  },
  {
   "cell_type": "code",
   "execution_count": 2,
   "metadata": {
    "collapsed": true
   },
   "outputs": [],
   "source": [
    "# define urls of interest\n",
    "metadata_url = 'https://catalog.data.gov/harvest/object/417d155b-3332-4fa9-b206-809da7cd02f8'\n",
    "patient_2015_url = 'https://raw.githubusercontent.com/vacobrydsk/VHA-Files/master/NEPEC_Overview_PTSD_FY15.json'\n",
    "center_2015_url = 'https://raw.githubusercontent.com/vacobrydsk/VHA-Files/master/NEPEC_AnnualDataSheet_PTSD_FY15.json'\n",
    "patient_2014_url = 'https://raw.githubusercontent.com/vacobrydsk/VHA-Files/master/NEPEC_Overview_PTSD_FY14.json'\n",
    "va_location_url = 'https://raw.githubusercontent.com/department-of-veterans-affairs/VHA-Facilities/master/VAFacilityLocation.json'"
   ]
  },
  {
   "cell_type": "code",
   "execution_count": 3,
   "metadata": {},
   "outputs": [
    {
     "name": "stdout",
     "output_type": "stream",
     "text": [
      "{'@type': 'dcat:Dataset',\n",
      " 'accessLevel': 'public',\n",
      " 'bureauCode': ['029:15'],\n",
      " 'contactPoint': {'@type': 'vcard:Contact',\n",
      "                  'fn': 'VHA Open Data',\n",
      "                  'hasEmail': 'mailto:vhaopendata@va.gov'},\n",
      " 'dataQuality': True,\n",
      " 'description': 'National-level, VISN-level, and/or VAMC-level statistics on '\n",
      "                'the numbers and percentages of users of VHA care form the '\n",
      "                'Northeast Program Evaluation Center (NEPEC).  Some datasets '\n",
      "                'focus on PTSD others on mental health.  There is no '\n",
      "                'record-level data.',\n",
      " 'identifier': 'VA-VHA-10N-014',\n",
      " 'issued': '2014-03-17',\n",
      " 'keyword': ['Health',\n",
      "             'Mental Health',\n",
      "             'NEPEC',\n",
      "             'PTSD',\n",
      "             'VA',\n",
      "             'VHA',\n",
      "             'Veteran',\n",
      "             'disorder',\n",
      "             'post',\n",
      "             'stress',\n",
      "             'traumatic'],\n",
      " 'landingPage': 'https://www.ptsd.va.gov/about/divisions/evaluation',\n",
      " 'language': ['en-US'],\n",
      " 'license': 'https://creativecommons.org/publicdomain/zero/1.0/',\n",
      " 'modified': '2014-03-17',\n",
      " 'programCode': ['029:042'],\n",
      " 'publisher': {'@type': 'org:Organization',\n",
      "               'name': 'Department of Veterans Affairs'},\n",
      " 'spatial': 'US, Puerto Rico, Virgin Islands, Philippines, Other Territories',\n",
      " 'temporal': '2013-10-01/2015-09-30',\n",
      " 'theme': ['PTSD', 'Mental Health'],\n",
      " 'title': 'VA PTSD Statistics'}\n"
     ]
    }
   ],
   "source": [
    "# display the metadata\n",
    "with request.urlopen(metadata_url) as url:\n",
    "    metadata = json.loads(url.read().decode())\n",
    "pprint.pprint(metadata)"
   ]
  },
  {
   "cell_type": "code",
   "execution_count": 4,
   "metadata": {},
   "outputs": [
    {
     "data": {
      "text/plain": [
       "\"engine.execute('SET NAMES utf8;')\\nengine.execute('SET CHARACTER SET utf8;')\\nengine.execute('SET character_set_connection=utf8;')\""
      ]
     },
     "execution_count": 4,
     "metadata": {},
     "output_type": "execute_result"
    }
   ],
   "source": [
    "# read json data from urls\n",
    "patient_2014 = pd.read_json(patient_2014_url)\n",
    "patient_2015 = pd.read_json(patient_2015_url)\n",
    "center_2015 = pd.read_json(center_2015_url)\n",
    "\n",
    "# create database connection\n",
    "engine = create_engine(\n",
    "    \"mysql://%s:%s@localhost/va_open?charset=utf8\" %\n",
    "    (os.getenv(\"MYSQL_USER\"), os.getenv(\"MYSQL_PASS\")))"
   ]
  },
  {
   "cell_type": "code",
   "execution_count": 5,
   "metadata": {
    "collapsed": true
   },
   "outputs": [],
   "source": [
    "# write to mysql database\n",
    "patient_2014.to_sql('patient_2014', engine, flavor='mysql', if_exists='replace')\n",
    "patient_2015.to_sql('patient_2015', engine, flavor='mysql', if_exists='replace')\n",
    "center_2015.to_sql('center_2015', engine, flavor='mysql', if_exists='replace')"
   ]
  },
  {
   "cell_type": "code",
   "execution_count": 6,
   "metadata": {
    "scrolled": false
   },
   "outputs": [],
   "source": [
    "with request.urlopen(va_location_url) as url:\n",
    "    va_location_dict = json.loads(url.read().decode('utf8'))\n",
    "    \n",
    "location_data = pd.DataFrame(va_location_dict['VAFacilityData'])\n",
    "location_data.to_sql('location', engine, flavor='mysql', if_exists='replace')"
   ]
  },
  {
   "cell_type": "code",
   "execution_count": null,
   "metadata": {
    "collapsed": true
   },
   "outputs": [],
   "source": []
  }
 ],
 "metadata": {
  "kernelspec": {
   "display_name": "Python 3",
   "language": "python",
   "name": "python3"
  },
  "language_info": {
   "codemirror_mode": {
    "name": "ipython",
    "version": 3
   },
   "file_extension": ".py",
   "mimetype": "text/x-python",
   "name": "python",
   "nbconvert_exporter": "python",
   "pygments_lexer": "ipython3",
   "version": "3.5.3"
  }
 },
 "nbformat": 4,
 "nbformat_minor": 2
}
