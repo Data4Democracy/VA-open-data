{
 "cells": [
  {
   "cell_type": "markdown",
   "metadata": {},
   "source": [
    "# Initial Exploration\n",
    "*June 16th, 2017*  \n",
    "*by Alan Leggitt (leggitta3@gmail.com)*  \n",
    "\n",
    "- Initial exploration of [VA PTSD Statistics](https://catalog.data.gov/dataset/va-ptsd-statistics) from [data.gov](https://www.data.gov/)"
   ]
  },
  {
   "cell_type": "code",
   "execution_count": null,
   "metadata": {},
   "outputs": [],
   "source": [
    "import json\n",
    "import os\n",
    "import pandas as pd\n",
    "import pprint\n",
    "from sqlalchemy import create_engine\n",
    "from urllib import request"
   ]
  },
  {
   "cell_type": "code",
   "execution_count": null,
   "metadata": {},
   "outputs": [],
   "source": [
    "# define urls of interest\n",
    "metadata_url = 'https://catalog.data.gov/harvest/object/417d155b-3332-4fa9-b206-809da7cd02f8'\n",
    "patient_2015_url = 'https://raw.githubusercontent.com/vacobrydsk/VHA-Files/master/NEPEC_Overview_PTSD_FY15.json'\n",
    "center_2015_url = 'https://raw.githubusercontent.com/vacobrydsk/VHA-Files/master/NEPEC_AnnualDataSheet_PTSD_FY15.json'\n",
    "patient_2014_url = 'https://raw.githubusercontent.com/vacobrydsk/VHA-Files/master/NEPEC_Overview_PTSD_FY14.json'\n",
    "va_location_url = 'https://raw.githubusercontent.com/department-of-veterans-affairs/VHA-Facilities/master/VAFacilityLocation.json'"
   ]
  },
  {
   "cell_type": "code",
   "execution_count": null,
   "metadata": {},
   "outputs": [],
   "source": [
    "# display the metadata\n",
    "with request.urlopen(metadata_url) as url:\n",
    "    metadata = json.loads(url.read().decode())\n",
    "pprint.pprint(metadata)"
   ]
  },
  {
   "cell_type": "code",
   "execution_count": null,
   "metadata": {},
   "outputs": [],
   "source": [
    "# read json data from urls\n",
    "patient_2014 = pd.read_json(patient_2014_url)\n",
    "patient_2015 = pd.read_json(patient_2015_url)\n",
    "center_2015 = pd.read_json(center_2015_url)\n",
    "\n",
    "# create database connection\n",
    "engine = create_engine(\n",
    "    \"mysql://%s:%s@localhost/va_open?charset=utf8\" %\n",
    "    (os.getenv(\"MYSQL_USER\"), os.getenv(\"MYSQL_PASS\")))"
   ]
  },
  {
   "cell_type": "code",
   "execution_count": null,
   "metadata": {},
   "outputs": [],
   "source": [
    "# write to mysql database\n",
    "patient_2014.to_sql('patient_2014', engine, flavor='mysql', if_exists='replace')\n",
    "patient_2015.to_sql('patient_2015', engine, flavor='mysql', if_exists='replace')\n",
    "center_2015.to_sql('center_2015', engine, flavor='mysql', if_exists='replace')"
   ]
  },
  {
   "cell_type": "code",
   "execution_count": null,
   "metadata": {},
   "outputs": [],
   "source": [
    "with request.urlopen(va_location_url) as url:\n",
    "    va_location_dict = json.loads(url.read().decode('utf8'))\n",
    "    \n",
    "location_data = pd.DataFrame(va_location_dict['VAFacilityData'])\n",
    "location_data.to_sql('location', engine, flavor='mysql', if_exists='replace')"
   ]
  },
  {
   "cell_type": "code",
   "execution_count": null,
   "metadata": {},
   "outputs": [],
   "source": []
  }
 ],
 "metadata": {
  "language_info": {
   "name": "python",
   "pygments_lexer": "ipython3"
  }
 },
 "nbformat": 4,
 "nbformat_minor": 2
}
