{
 "cells": [
  {
   "cell_type": "markdown",
   "metadata": {},
   "source": [
    "# Initial Exploration\n",
    "*June 16th, 2017*  \n",
    "*by Alan Leggitt (leggitta3@gmail.com)*  \n",
    "\n",
    "- Initial exploration of [VA PTSD Statistics](https://catalog.data.gov/dataset/va-ptsd-statistics) from [data.gov](https://www.data.gov/)"
   ]
  },
  {
   "cell_type": "code",
   "execution_count": 1,
   "metadata": {},
   "outputs": [],
   "source": [
    "import json\n",
    "import os\n",
    "import pandas as pd\n",
    "import pprint\n",
    "from sqlalchemy import create_engine\n",
    "from urllib import request"
   ]
  },
  {
   "cell_type": "code",
   "execution_count": 5,
   "metadata": {},
   "outputs": [],
   "source": [
    "# define urls of interest\n",
    "metadata_url = 'https://catalog.data.gov/harvest/object/417d155b-3332-4fa9-b206-809da7cd02f8'\n",
    "patient_2015_url = 'https://raw.githubusercontent.com/vacobrydsk/VHA-Files/master/NEPEC_Overview_PTSD_FY15.json'\n",
    "center_2015_url = 'https://raw.githubusercontent.com/vacobrydsk/VHA-Files/master/NEPEC_AnnualDataSheet_PTSD_FY15.json'\n",
    "patient_2014_url = 'https://raw.githubusercontent.com/vacobrydsk/VHA-Files/master/NEPEC_Overview_PTSD_FY14.json'\n",
    "va_location_url = 'https://raw.githubusercontent.com/department-of-veterans-affairs/VHA-Facilities/master/VAFacilityLocation.json'"
   ]
  },
  {
   "cell_type": "code",
   "execution_count": 3,
   "metadata": {},
   "outputs": [
    {
     "name": "stdout",
     "output_type": "stream",
     "text": [
      "{'@type': 'dcat:Dataset',\n",
      " 'accessLevel': 'public',\n",
      " 'bureauCode': ['029:15'],\n",
      " 'contactPoint': {'@type': 'vcard:Contact',\n",
      "                  'fn': 'VHA Open Data',\n",
      "                  'hasEmail': 'mailto:vhaopendata@va.gov'},\n",
      " 'dataQuality': True,\n",
      " 'description': 'National-level, VISN-level, and/or VAMC-level statistics on '\n",
      "                'the numbers and percentages of users of VHA care form the '\n",
      "                'Northeast Program Evaluation Center (NEPEC).  Some datasets '\n",
      "                'focus on PTSD others on mental health.  There is no '\n",
      "                'record-level data.',\n",
      " 'identifier': 'VA-VHA-10N-014',\n",
      " 'issued': '2014-03-17',\n",
      " 'keyword': ['Health',\n",
      "             'Mental Health',\n",
      "             'NEPEC',\n",
      "             'PTSD',\n",
      "             'VA',\n",
      "             'VHA',\n",
      "             'Veteran',\n",
      "             'disorder',\n",
      "             'post',\n",
      "             'stress',\n",
      "             'traumatic'],\n",
      " 'landingPage': 'https://www.ptsd.va.gov/about/divisions/evaluation',\n",
      " 'language': ['en-US'],\n",
      " 'license': 'https://creativecommons.org/publicdomain/zero/1.0/',\n",
      " 'modified': '2014-03-17',\n",
      " 'programCode': ['029:042'],\n",
      " 'publisher': {'@type': 'org:Organization',\n",
      "               'name': 'Department of Veterans Affairs'},\n",
      " 'spatial': 'US, Puerto Rico, Virgin Islands, Philippines, Other Territories',\n",
      " 'temporal': '2013-10-01/2015-09-30',\n",
      " 'theme': ['PTSD', 'Mental Health'],\n",
      " 'title': 'VA PTSD Statistics'}\n"
     ]
    }
   ],
   "source": [
    "# display the metadata\n",
    "with request.urlopen(metadata_url) as url:\n",
    "    metadata = json.loads(url.read().decode())\n",
    "pprint.pprint(metadata)"
   ]
  },
  {
   "cell_type": "code",
   "execution_count": 6,
   "metadata": {},
   "outputs": [
    {
     "ename": "ImportError",
     "evalue": "No module named 'MySQLdb'",
     "output_type": "error",
     "traceback": [
      "\u001b[0;31m---------------------------------------------------------------------------\u001b[0m",
      "\u001b[0;31mImportError\u001b[0m                               Traceback (most recent call last)",
      "\u001b[0;32m<ipython-input-6-ab10775b5e51>\u001b[0m in \u001b[0;36m<module>\u001b[0;34m()\u001b[0m\n\u001b[1;32m      7\u001b[0m engine = create_engine(\n\u001b[1;32m      8\u001b[0m     \u001b[0;34m\"mysql://%s:%s@localhost/va_open?charset=utf8\"\u001b[0m \u001b[0;34m%\u001b[0m\u001b[0;34m\u001b[0m\u001b[0m\n\u001b[0;32m----> 9\u001b[0;31m     (os.getenv(\"MYSQL_USER\"), os.getenv(\"MYSQL_PASS\")))\n\u001b[0m",
      "\u001b[0;32m~/anaconda3_420/lib/python3.5/site-packages/sqlalchemy/engine/__init__.py\u001b[0m in \u001b[0;36mcreate_engine\u001b[0;34m(*args, **kwargs)\u001b[0m\n\u001b[1;32m    384\u001b[0m     \u001b[0mstrategy\u001b[0m \u001b[0;34m=\u001b[0m \u001b[0mkwargs\u001b[0m\u001b[0;34m.\u001b[0m\u001b[0mpop\u001b[0m\u001b[0;34m(\u001b[0m\u001b[0;34m'strategy'\u001b[0m\u001b[0;34m,\u001b[0m \u001b[0mdefault_strategy\u001b[0m\u001b[0;34m)\u001b[0m\u001b[0;34m\u001b[0m\u001b[0m\n\u001b[1;32m    385\u001b[0m     \u001b[0mstrategy\u001b[0m \u001b[0;34m=\u001b[0m \u001b[0mstrategies\u001b[0m\u001b[0;34m.\u001b[0m\u001b[0mstrategies\u001b[0m\u001b[0;34m[\u001b[0m\u001b[0mstrategy\u001b[0m\u001b[0;34m]\u001b[0m\u001b[0;34m\u001b[0m\u001b[0m\n\u001b[0;32m--> 386\u001b[0;31m     \u001b[0;32mreturn\u001b[0m \u001b[0mstrategy\u001b[0m\u001b[0;34m.\u001b[0m\u001b[0mcreate\u001b[0m\u001b[0;34m(\u001b[0m\u001b[0;34m*\u001b[0m\u001b[0margs\u001b[0m\u001b[0;34m,\u001b[0m \u001b[0;34m**\u001b[0m\u001b[0mkwargs\u001b[0m\u001b[0;34m)\u001b[0m\u001b[0;34m\u001b[0m\u001b[0m\n\u001b[0m\u001b[1;32m    387\u001b[0m \u001b[0;34m\u001b[0m\u001b[0m\n\u001b[1;32m    388\u001b[0m \u001b[0;34m\u001b[0m\u001b[0m\n",
      "\u001b[0;32m~/anaconda3_420/lib/python3.5/site-packages/sqlalchemy/engine/strategies.py\u001b[0m in \u001b[0;36mcreate\u001b[0;34m(self, name_or_url, **kwargs)\u001b[0m\n\u001b[1;32m     73\u001b[0m                 \u001b[0;32mif\u001b[0m \u001b[0mk\u001b[0m \u001b[0;32min\u001b[0m \u001b[0mkwargs\u001b[0m\u001b[0;34m:\u001b[0m\u001b[0;34m\u001b[0m\u001b[0m\n\u001b[1;32m     74\u001b[0m                     \u001b[0mdbapi_args\u001b[0m\u001b[0;34m[\u001b[0m\u001b[0mk\u001b[0m\u001b[0;34m]\u001b[0m \u001b[0;34m=\u001b[0m \u001b[0mpop_kwarg\u001b[0m\u001b[0;34m(\u001b[0m\u001b[0mk\u001b[0m\u001b[0;34m)\u001b[0m\u001b[0;34m\u001b[0m\u001b[0m\n\u001b[0;32m---> 75\u001b[0;31m             \u001b[0mdbapi\u001b[0m \u001b[0;34m=\u001b[0m \u001b[0mdialect_cls\u001b[0m\u001b[0;34m.\u001b[0m\u001b[0mdbapi\u001b[0m\u001b[0;34m(\u001b[0m\u001b[0;34m**\u001b[0m\u001b[0mdbapi_args\u001b[0m\u001b[0;34m)\u001b[0m\u001b[0;34m\u001b[0m\u001b[0m\n\u001b[0m\u001b[1;32m     76\u001b[0m \u001b[0;34m\u001b[0m\u001b[0m\n\u001b[1;32m     77\u001b[0m         \u001b[0mdialect_args\u001b[0m\u001b[0;34m[\u001b[0m\u001b[0;34m'dbapi'\u001b[0m\u001b[0;34m]\u001b[0m \u001b[0;34m=\u001b[0m \u001b[0mdbapi\u001b[0m\u001b[0;34m\u001b[0m\u001b[0m\n",
      "\u001b[0;32m~/anaconda3_420/lib/python3.5/site-packages/sqlalchemy/dialects/mysql/mysqldb.py\u001b[0m in \u001b[0;36mdbapi\u001b[0;34m(cls)\u001b[0m\n\u001b[1;32m     90\u001b[0m     \u001b[0;34m@\u001b[0m\u001b[0mclassmethod\u001b[0m\u001b[0;34m\u001b[0m\u001b[0m\n\u001b[1;32m     91\u001b[0m     \u001b[0;32mdef\u001b[0m \u001b[0mdbapi\u001b[0m\u001b[0;34m(\u001b[0m\u001b[0mcls\u001b[0m\u001b[0;34m)\u001b[0m\u001b[0;34m:\u001b[0m\u001b[0;34m\u001b[0m\u001b[0m\n\u001b[0;32m---> 92\u001b[0;31m         \u001b[0;32mreturn\u001b[0m \u001b[0m__import__\u001b[0m\u001b[0;34m(\u001b[0m\u001b[0;34m'MySQLdb'\u001b[0m\u001b[0;34m)\u001b[0m\u001b[0;34m\u001b[0m\u001b[0m\n\u001b[0m\u001b[1;32m     93\u001b[0m \u001b[0;34m\u001b[0m\u001b[0m\n\u001b[1;32m     94\u001b[0m     \u001b[0;32mdef\u001b[0m \u001b[0mdo_executemany\u001b[0m\u001b[0;34m(\u001b[0m\u001b[0mself\u001b[0m\u001b[0;34m,\u001b[0m \u001b[0mcursor\u001b[0m\u001b[0;34m,\u001b[0m \u001b[0mstatement\u001b[0m\u001b[0;34m,\u001b[0m \u001b[0mparameters\u001b[0m\u001b[0;34m,\u001b[0m \u001b[0mcontext\u001b[0m\u001b[0;34m=\u001b[0m\u001b[0;32mNone\u001b[0m\u001b[0;34m)\u001b[0m\u001b[0;34m:\u001b[0m\u001b[0;34m\u001b[0m\u001b[0m\n",
      "\u001b[0;31mImportError\u001b[0m: No module named 'MySQLdb'"
     ]
    }
   ],
   "source": [
    "# read json data from urls\n",
    "patient_2014 = pd.read_json(patient_2014_url)\n",
    "patient_2015 = pd.read_json(patient_2015_url)\n",
    "center_2015 = pd.read_json(center_2015_url)\n",
    "\n",
    "# create database connection\n",
    "engine = create_engine(\n",
    "    \"mysql://%s:%s@localhost/va_open?charset=utf8\" %\n",
    "    (os.getenv(\"MYSQL_USER\"), os.getenv(\"MYSQL_PASS\")))"
   ]
  },
  {
   "cell_type": "code",
   "execution_count": 5,
   "metadata": {
    "collapsed": true
   },
   "outputs": [],
   "source": [
    "# write to mysql database\n",
    "patient_2014.to_sql('patient_2014', engine, flavor='mysql', if_exists='replace')\n",
    "patient_2015.to_sql('patient_2015', engine, flavor='mysql', if_exists='replace')\n",
    "center_2015.to_sql('center_2015', engine, flavor='mysql', if_exists='replace')"
   ]
  },
  {
   "cell_type": "code",
   "execution_count": 6,
   "metadata": {
    "scrolled": false
   },
   "outputs": [],
   "source": [
    "with request.urlopen(va_location_url) as url:\n",
    "    va_location_dict = json.loads(url.read().decode('utf8'))\n",
    "    \n",
    "location_data = pd.DataFrame(va_location_dict['VAFacilityData'])\n",
    "location_data.to_sql('location', engine, flavor='mysql', if_exists='replace')"
   ]
  },
  {
   "cell_type": "code",
   "execution_count": null,
   "metadata": {
    "collapsed": true
   },
   "outputs": [],
   "source": []
  }
 ],
 "metadata": {
  "kernelspec": {
   "display_name": "Python 3",
   "language": "python",
   "name": "python3"
  },
  "language_info": {
   "codemirror_mode": {
    "name": "ipython",
    "version": 3
   },
   "file_extension": ".py",
   "mimetype": "text/x-python",
   "name": "python",
   "nbconvert_exporter": "python",
   "pygments_lexer": "ipython3",
   "version": "3.5.4"
  }
 },
 "nbformat": 4,
 "nbformat_minor": 2
}
